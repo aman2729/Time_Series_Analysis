{
 "cells": [
  {
   "cell_type": "code",
   "execution_count": 1,
   "id": "7a40f7c7",
   "metadata": {},
   "outputs": [],
   "source": [
    "import numpy as np\n",
    "import pandas as pd\n",
    "import seaborn as sns\n",
    "import matplotlib.pyplot as plt"
   ]
  },
  {
   "cell_type": "code",
   "execution_count": 2,
   "id": "1100dd32",
   "metadata": {},
   "outputs": [],
   "source": [
    "df=pd.read_csv(\"BAJFINANCE.csv\")"
   ]
  },
  {
   "cell_type": "code",
   "execution_count": 3,
   "id": "2460360f",
   "metadata": {},
   "outputs": [
    {
     "data": {
      "text/html": [
       "<div>\n",
       "<style scoped>\n",
       "    .dataframe tbody tr th:only-of-type {\n",
       "        vertical-align: middle;\n",
       "    }\n",
       "\n",
       "    .dataframe tbody tr th {\n",
       "        vertical-align: top;\n",
       "    }\n",
       "\n",
       "    .dataframe thead th {\n",
       "        text-align: right;\n",
       "    }\n",
       "</style>\n",
       "<table border=\"1\" class=\"dataframe\">\n",
       "  <thead>\n",
       "    <tr style=\"text-align: right;\">\n",
       "      <th></th>\n",
       "      <th>Date</th>\n",
       "      <th>Symbol</th>\n",
       "      <th>Series</th>\n",
       "      <th>Prev Close</th>\n",
       "      <th>Open</th>\n",
       "      <th>High</th>\n",
       "      <th>Low</th>\n",
       "      <th>Last</th>\n",
       "      <th>Close</th>\n",
       "      <th>VWAP</th>\n",
       "      <th>Volume</th>\n",
       "      <th>Turnover</th>\n",
       "      <th>Trades</th>\n",
       "      <th>Deliverable Volume</th>\n",
       "      <th>%Deliverble</th>\n",
       "    </tr>\n",
       "  </thead>\n",
       "  <tbody>\n",
       "    <tr>\n",
       "      <th>0</th>\n",
       "      <td>2000-01-03</td>\n",
       "      <td>BAJAUTOFIN</td>\n",
       "      <td>EQ</td>\n",
       "      <td>46.95</td>\n",
       "      <td>49.45</td>\n",
       "      <td>50.75</td>\n",
       "      <td>46.5</td>\n",
       "      <td>50.75</td>\n",
       "      <td>50.75</td>\n",
       "      <td>50.05</td>\n",
       "      <td>7600</td>\n",
       "      <td>3.803800e+10</td>\n",
       "      <td>NaN</td>\n",
       "      <td>NaN</td>\n",
       "      <td>NaN</td>\n",
       "    </tr>\n",
       "    <tr>\n",
       "      <th>1</th>\n",
       "      <td>2000-01-04</td>\n",
       "      <td>BAJAUTOFIN</td>\n",
       "      <td>EQ</td>\n",
       "      <td>50.75</td>\n",
       "      <td>53.20</td>\n",
       "      <td>53.20</td>\n",
       "      <td>47.9</td>\n",
       "      <td>48.00</td>\n",
       "      <td>48.10</td>\n",
       "      <td>48.56</td>\n",
       "      <td>5000</td>\n",
       "      <td>2.428000e+10</td>\n",
       "      <td>NaN</td>\n",
       "      <td>NaN</td>\n",
       "      <td>NaN</td>\n",
       "    </tr>\n",
       "    <tr>\n",
       "      <th>2</th>\n",
       "      <td>2000-01-05</td>\n",
       "      <td>BAJAUTOFIN</td>\n",
       "      <td>EQ</td>\n",
       "      <td>48.10</td>\n",
       "      <td>46.55</td>\n",
       "      <td>47.40</td>\n",
       "      <td>44.6</td>\n",
       "      <td>44.60</td>\n",
       "      <td>44.60</td>\n",
       "      <td>45.47</td>\n",
       "      <td>3500</td>\n",
       "      <td>1.591450e+10</td>\n",
       "      <td>NaN</td>\n",
       "      <td>NaN</td>\n",
       "      <td>NaN</td>\n",
       "    </tr>\n",
       "    <tr>\n",
       "      <th>3</th>\n",
       "      <td>2000-01-06</td>\n",
       "      <td>BAJAUTOFIN</td>\n",
       "      <td>EQ</td>\n",
       "      <td>44.60</td>\n",
       "      <td>43.50</td>\n",
       "      <td>46.00</td>\n",
       "      <td>42.1</td>\n",
       "      <td>46.00</td>\n",
       "      <td>45.25</td>\n",
       "      <td>44.43</td>\n",
       "      <td>6200</td>\n",
       "      <td>2.754750e+10</td>\n",
       "      <td>NaN</td>\n",
       "      <td>NaN</td>\n",
       "      <td>NaN</td>\n",
       "    </tr>\n",
       "    <tr>\n",
       "      <th>4</th>\n",
       "      <td>2000-01-07</td>\n",
       "      <td>BAJAUTOFIN</td>\n",
       "      <td>EQ</td>\n",
       "      <td>45.25</td>\n",
       "      <td>48.00</td>\n",
       "      <td>48.00</td>\n",
       "      <td>42.0</td>\n",
       "      <td>42.90</td>\n",
       "      <td>42.90</td>\n",
       "      <td>44.44</td>\n",
       "      <td>3500</td>\n",
       "      <td>1.555550e+10</td>\n",
       "      <td>NaN</td>\n",
       "      <td>NaN</td>\n",
       "      <td>NaN</td>\n",
       "    </tr>\n",
       "  </tbody>\n",
       "</table>\n",
       "</div>"
      ],
      "text/plain": [
       "         Date      Symbol Series  Prev Close   Open   High   Low   Last  \\\n",
       "0  2000-01-03  BAJAUTOFIN     EQ       46.95  49.45  50.75  46.5  50.75   \n",
       "1  2000-01-04  BAJAUTOFIN     EQ       50.75  53.20  53.20  47.9  48.00   \n",
       "2  2000-01-05  BAJAUTOFIN     EQ       48.10  46.55  47.40  44.6  44.60   \n",
       "3  2000-01-06  BAJAUTOFIN     EQ       44.60  43.50  46.00  42.1  46.00   \n",
       "4  2000-01-07  BAJAUTOFIN     EQ       45.25  48.00  48.00  42.0  42.90   \n",
       "\n",
       "   Close   VWAP  Volume      Turnover  Trades  Deliverable Volume  %Deliverble  \n",
       "0  50.75  50.05    7600  3.803800e+10     NaN                 NaN          NaN  \n",
       "1  48.10  48.56    5000  2.428000e+10     NaN                 NaN          NaN  \n",
       "2  44.60  45.47    3500  1.591450e+10     NaN                 NaN          NaN  \n",
       "3  45.25  44.43    6200  2.754750e+10     NaN                 NaN          NaN  \n",
       "4  42.90  44.44    3500  1.555550e+10     NaN                 NaN          NaN  "
      ]
     },
     "execution_count": 3,
     "metadata": {},
     "output_type": "execute_result"
    }
   ],
   "source": [
    "df.head()"
   ]
  },
  {
   "cell_type": "code",
   "execution_count": 4,
   "id": "479ca53a",
   "metadata": {},
   "outputs": [
    {
     "name": "stdout",
     "output_type": "stream",
     "text": [
      "<class 'pandas.core.frame.DataFrame'>\n",
      "RangeIndex: 5070 entries, 0 to 5069\n",
      "Data columns (total 15 columns):\n",
      " #   Column              Non-Null Count  Dtype  \n",
      "---  ------              --------------  -----  \n",
      " 0   Date                5070 non-null   object \n",
      " 1   Symbol              5070 non-null   object \n",
      " 2   Series              5070 non-null   object \n",
      " 3   Prev Close          5070 non-null   float64\n",
      " 4   Open                5070 non-null   float64\n",
      " 5   High                5070 non-null   float64\n",
      " 6   Low                 5070 non-null   float64\n",
      " 7   Last                5070 non-null   float64\n",
      " 8   Close               5070 non-null   float64\n",
      " 9   VWAP                5070 non-null   float64\n",
      " 10  Volume              5070 non-null   int64  \n",
      " 11  Turnover            5070 non-null   float64\n",
      " 12  Trades              2291 non-null   float64\n",
      " 13  Deliverable Volume  4624 non-null   float64\n",
      " 14  %Deliverble         4624 non-null   float64\n",
      "dtypes: float64(11), int64(1), object(3)\n",
      "memory usage: 594.3+ KB\n"
     ]
    }
   ],
   "source": [
    "df.info()"
   ]
  },
  {
   "cell_type": "code",
   "execution_count": 5,
   "id": "5ef42df6",
   "metadata": {},
   "outputs": [
    {
     "data": {
      "text/plain": [
       "Date                     0\n",
       "Symbol                   0\n",
       "Series                   0\n",
       "Prev Close               0\n",
       "Open                     0\n",
       "High                     0\n",
       "Low                      0\n",
       "Last                     0\n",
       "Close                    0\n",
       "VWAP                     0\n",
       "Volume                   0\n",
       "Turnover                 0\n",
       "Trades                2779\n",
       "Deliverable Volume     446\n",
       "%Deliverble            446\n",
       "dtype: int64"
      ]
     },
     "execution_count": 5,
     "metadata": {},
     "output_type": "execute_result"
    }
   ],
   "source": [
    "df.isnull().sum()"
   ]
  },
  {
   "cell_type": "code",
   "execution_count": 8,
   "id": "7c6ae792",
   "metadata": {},
   "outputs": [],
   "source": [
    "df['Date']=pd.to_datetime(df['Date'])"
   ]
  },
  {
   "cell_type": "code",
   "execution_count": 9,
   "id": "8cc8d74c",
   "metadata": {},
   "outputs": [
    {
     "name": "stdout",
     "output_type": "stream",
     "text": [
      "<class 'pandas.core.frame.DataFrame'>\n",
      "RangeIndex: 5070 entries, 0 to 5069\n",
      "Data columns (total 15 columns):\n",
      " #   Column              Non-Null Count  Dtype         \n",
      "---  ------              --------------  -----         \n",
      " 0   Date                5070 non-null   datetime64[ns]\n",
      " 1   Symbol              5070 non-null   object        \n",
      " 2   Series              5070 non-null   object        \n",
      " 3   Prev Close          5070 non-null   float64       \n",
      " 4   Open                5070 non-null   float64       \n",
      " 5   High                5070 non-null   float64       \n",
      " 6   Low                 5070 non-null   float64       \n",
      " 7   Last                5070 non-null   float64       \n",
      " 8   Close               5070 non-null   float64       \n",
      " 9   VWAP                5070 non-null   float64       \n",
      " 10  Volume              5070 non-null   int64         \n",
      " 11  Turnover            5070 non-null   float64       \n",
      " 12  Trades              2291 non-null   float64       \n",
      " 13  Deliverable Volume  4624 non-null   float64       \n",
      " 14  %Deliverble         4624 non-null   float64       \n",
      "dtypes: datetime64[ns](1), float64(11), int64(1), object(2)\n",
      "memory usage: 594.3+ KB\n"
     ]
    }
   ],
   "source": [
    "df.info()"
   ]
  },
  {
   "cell_type": "code",
   "execution_count": 12,
   "id": "b5f28a23",
   "metadata": {},
   "outputs": [
    {
     "data": {
      "image/png": "[encoded data removed]",
      "text/plain": [
       "<Figure size 720x720 with 1 Axes>"
      ]
     },
     "metadata": {
      "needs_background": "light"
     },
     "output_type": "display_data"
    }
   ],
   "source": [
    "plt.figure(figsize=(10,10))\n",
    "sns.lineplot(x=\"Date\",y=\"VWAP\",data=df)\n",
    "plt.show()"
   ]
  },
  {
   "cell_type": "code",
   "execution_count": 13,
   "id": "7d49f421",
   "metadata": {},
   "outputs": [
    {
     "data": {
      "text/plain": [
       "(5070, 15)"
      ]
     },
     "execution_count": 13,
     "metadata": {},
     "output_type": "execute_result"
    }
   ],
   "source": [
    "df.shape"
   ]
  },
  {
   "cell_type": "code",
   "execution_count": 14,
   "id": "3ac87e90",
   "metadata": {},
   "outputs": [],
   "source": [
    "# Deleting Null values\n",
    "df.dropna(inplace=True)"
   ]
  },
  {
   "cell_type": "code",
   "execution_count": 15,
   "id": "ea0c1939",
   "metadata": {},
   "outputs": [
    {
     "data": {
      "text/plain": [
       "Date                  0\n",
       "Symbol                0\n",
       "Series                0\n",
       "Prev Close            0\n",
       "Open                  0\n",
       "High                  0\n",
       "Low                   0\n",
       "Last                  0\n",
       "Close                 0\n",
       "VWAP                  0\n",
       "Volume                0\n",
       "Turnover              0\n",
       "Trades                0\n",
       "Deliverable Volume    0\n",
       "%Deliverble           0\n",
       "dtype: int64"
      ]
     },
     "execution_count": 15,
     "metadata": {},
     "output_type": "execute_result"
    }
   ],
   "source": [
    "df.isnull().sum()"
   ]
  },
  {
   "cell_type": "code",
   "execution_count": 16,
   "id": "08167db3",
   "metadata": {},
   "outputs": [],
   "source": [
    "data=df.copy()"
   ]
  },
  {
   "cell_type": "code",
   "execution_count": 17,
   "id": "d95cce09",
   "metadata": {},
   "outputs": [
    {
     "data": {
      "text/plain": [
       "(2291, 15)"
      ]
     },
     "execution_count": 17,
     "metadata": {},
     "output_type": "execute_result"
    }
   ],
   "source": [
    "data.shape"
   ]
  },
  {
   "cell_type": "code",
   "execution_count": 19,
   "id": "ccbf9531",
   "metadata": {},
   "outputs": [
    {
     "name": "stdout",
     "output_type": "stream",
     "text": [
      "<class 'pandas.core.frame.DataFrame'>\n",
      "Int64Index: 2291 entries, 2779 to 5069\n",
      "Data columns (total 15 columns):\n",
      " #   Column              Non-Null Count  Dtype         \n",
      "---  ------              --------------  -----         \n",
      " 0   Date                2291 non-null   datetime64[ns]\n",
      " 1   Symbol              2291 non-null   object        \n",
      " 2   Series              2291 non-null   object        \n",
      " 3   Prev Close          2291 non-null   float64       \n",
      " 4   Open                2291 non-null   float64       \n",
      " 5   High                2291 non-null   float64       \n",
      " 6   Low                 2291 non-null   float64       \n",
      " 7   Last                2291 non-null   float64       \n",
      " 8   Close               2291 non-null   float64       \n",
      " 9   VWAP                2291 non-null   float64       \n",
      " 10  Volume              2291 non-null   int64         \n",
      " 11  Turnover            2291 non-null   float64       \n",
      " 12  Trades              2291 non-null   float64       \n",
      " 13  Deliverable Volume  2291 non-null   float64       \n",
      " 14  %Deliverble         2291 non-null   float64       \n",
      "dtypes: datetime64[ns](1), float64(11), int64(1), object(2)\n",
      "memory usage: 286.4+ KB\n"
     ]
    }
   ],
   "source": [
    "# Checking data types of each column\n",
    "df.info()"
   ]
  },
  {
   "cell_type": "code",
   "execution_count": 24,
   "id": "99cecda4",
   "metadata": {},
   "outputs": [],
   "source": [
    "lag_features=['High','Low','Volume','Turnover','Trades']"
   ]
  },
  {
   "cell_type": "code",
   "execution_count": 35,
   "id": "f9e17e8c",
   "metadata": {},
   "outputs": [],
   "source": [
    "# Creating Rolling window for each features\n",
    "\n",
    "for feature in lag_features:\n",
    "    data[feature+'mean3']=data[feature].rolling(window=3).mean()\n",
    "    data[feature+'mean7']=data[feature].rolling(window=7).mean() "
   ]
  },
  {
   "cell_type": "code",
   "execution_count": 36,
   "id": "45134bc4",
   "metadata": {},
   "outputs": [],
   "source": [
    "for feature in lag_features:\n",
    "    data[feature+'std3']=data[feature].rolling(window=3).std()\n",
    "    data[feature+'std7']=data[feature].rolling(window=7).std() "
   ]
  },
  {
   "cell_type": "code",
   "execution_count": 37,
   "id": "1ea4a58b",
   "metadata": {},
   "outputs": [
    {
     "data": {
      "text/plain": [
       "Index(['Date', 'Symbol', 'Series', 'Prev Close', 'Open', 'High', 'Low', 'Last',\n",
       "       'Close', 'VWAP', 'Volume', 'Turnover', 'Trades', 'Deliverable Volume',\n",
       "       '%Deliverble', 'Highmean3', 'Highmean7', 'Lowmean3', 'Lowmean7',\n",
       "       'Volumemean3', 'Volumemean7', 'Turnovermean3', 'Turnovermean7',\n",
       "       'Tradesmean3', 'Tradesmean7', 'Highstd3', 'Highstd7', 'Lowstd3',\n",
       "       'Lowstd7', 'Volumestd3', 'Volumestd7', 'Turnoverstd3', 'Turnoverstd7',\n",
       "       'Tradesstd3', 'Tradesstd7'],\n",
       "      dtype='object')"
      ]
     },
     "execution_count": 37,
     "metadata": {},
     "output_type": "execute_result"
    }
   ],
   "source": [
    "data.columns"
   ]
  },
  {
   "cell_type": "code",
   "execution_count": 38,
   "id": "acdf3f78",
   "metadata": {},
   "outputs": [
    {
     "data": {
      "text/plain": [
       "(2291, 35)"
      ]
     },
     "execution_count": 38,
     "metadata": {},
     "output_type": "execute_result"
    }
   ],
   "source": [
    "data.shape"
   ]
  },
  {
   "cell_type": "code",
   "execution_count": 39,
   "id": "04a28d8a",
   "metadata": {},
   "outputs": [
    {
     "data": {
      "text/plain": [
       "Date                  0\n",
       "Symbol                0\n",
       "Series                0\n",
       "Prev Close            0\n",
       "Open                  0\n",
       "High                  0\n",
       "Low                   0\n",
       "Last                  0\n",
       "Close                 0\n",
       "VWAP                  0\n",
       "Volume                0\n",
       "Turnover              0\n",
       "Trades                0\n",
       "Deliverable Volume    0\n",
       "%Deliverble           0\n",
       "Highmean3             2\n",
       "Highmean7             6\n",
       "Lowmean3              2\n",
       "Lowmean7              6\n",
       "Volumemean3           2\n",
       "Volumemean7           6\n",
       "Turnovermean3         2\n",
       "Turnovermean7         6\n",
       "Tradesmean3           2\n",
       "Tradesmean7           6\n",
       "Highstd3              2\n",
       "Highstd7              6\n",
       "Lowstd3               2\n",
       "Lowstd7               6\n",
       "Volumestd3            2\n",
       "Volumestd7            6\n",
       "Turnoverstd3          2\n",
       "Turnoverstd7          6\n",
       "Tradesstd3            2\n",
       "Tradesstd7            6\n",
       "dtype: int64"
      ]
     },
     "execution_count": 39,
     "metadata": {},
     "output_type": "execute_result"
    }
   ],
   "source": [
    "data.isnull().sum()"
   ]
  },
  {
   "cell_type": "code",
   "execution_count": 40,
   "id": "bcb1f9bf",
   "metadata": {},
   "outputs": [],
   "source": [
    "data.dropna(inplace=True)"
   ]
  },
  {
   "cell_type": "code",
   "execution_count": 41,
   "id": "fc025ea2",
   "metadata": {},
   "outputs": [
    {
     "data": {
      "text/plain": [
       "Date                  0\n",
       "Symbol                0\n",
       "Series                0\n",
       "Prev Close            0\n",
       "Open                  0\n",
       "High                  0\n",
       "Low                   0\n",
       "Last                  0\n",
       "Close                 0\n",
       "VWAP                  0\n",
       "Volume                0\n",
       "Turnover              0\n",
       "Trades                0\n",
       "Deliverable Volume    0\n",
       "%Deliverble           0\n",
       "Highmean3             0\n",
       "Highmean7             0\n",
       "Lowmean3              0\n",
       "Lowmean7              0\n",
       "Volumemean3           0\n",
       "Volumemean7           0\n",
       "Turnovermean3         0\n",
       "Turnovermean7         0\n",
       "Tradesmean3           0\n",
       "Tradesmean7           0\n",
       "Highstd3              0\n",
       "Highstd7              0\n",
       "Lowstd3               0\n",
       "Lowstd7               0\n",
       "Volumestd3            0\n",
       "Volumestd7            0\n",
       "Turnoverstd3          0\n",
       "Turnoverstd7          0\n",
       "Tradesstd3            0\n",
       "Tradesstd7            0\n",
       "dtype: int64"
      ]
     },
     "execution_count": 41,
     "metadata": {},
     "output_type": "execute_result"
    }
   ],
   "source": [
    "data.isnull().sum()"
   ]
  },
  {
   "cell_type": "code",
   "execution_count": 42,
   "id": "747430b3",
   "metadata": {},
   "outputs": [],
   "source": [
    "ind_features=['Highmean3', 'Highmean7', 'Lowmean3', 'Lowmean7',\n",
    "       'Volumemean3', 'Volumemean7', 'Turnovermean3', 'Turnovermean7',\n",
    "       'Tradesmean3', 'Tradesmean7', 'Highstd3', 'Highstd7', 'Lowstd3',\n",
    "       'Lowstd7', 'Volumestd3', 'Volumestd7', 'Turnoverstd3', 'Turnoverstd7',\n",
    "       'Tradesstd3', 'Tradesstd7']"
   ]
  },
  {
   "cell_type": "code",
   "execution_count": 43,
   "id": "9fedfb87",
   "metadata": {},
   "outputs": [],
   "source": [
    "training_data=data[0:1800]\n",
    "test_data=data[1800:]"
   ]
  },
  {
   "cell_type": "code",
   "execution_count": 44,
   "id": "748e2770",
   "metadata": {},
   "outputs": [
    {
     "name": "stdout",
     "output_type": "stream",
     "text": [
      "Defaulting to user installation because normal site-packages is not writeable\n",
      "Collecting pmdarima\n",
      "  Downloading pmdarima-2.0.4-cp39-cp39-win_amd64.whl (614 kB)\n",
      "Requirement already satisfied: Cython!=0.29.18,!=0.29.31,>=0.29 in c:\\users\\amansinghania\\newfolder\\lib\\site-packages (from pmdarima) (0.29.28)\n",
      "Requirement already satisfied: urllib3 in c:\\users\\amansinghania\\newfolder\\lib\\site-packages (from pmdarima) (1.26.9)\n",
      "Requirement already satisfied: statsmodels>=0.13.2 in c:\\users\\amansinghania\\newfolder\\lib\\site-packages (from pmdarima) (0.13.2)\n",
      "Requirement already satisfied: setuptools!=50.0.0,>=38.6.0 in c:\\users\\amansinghania\\newfolder\\lib\\site-packages (from pmdarima) (61.2.0)\n",
      "Requirement already satisfied: scipy>=1.3.2 in c:\\users\\amansinghania\\newfolder\\lib\\site-packages (from pmdarima) (1.7.3)\n",
      "Requirement already satisfied: scikit-learn>=0.22 in c:\\users\\amansinghania\\newfolder\\lib\\site-packages (from pmdarima) (1.0.2)\n",
      "Requirement already satisfied: packaging>=17.1 in c:\\users\\amansinghania\\newfolder\\lib\\site-packages (from pmdarima) (21.3)\n",
      "Requirement already satisfied: pandas>=0.19 in c:\\users\\amansinghania\\newfolder\\lib\\site-packages (from pmdarima) (1.4.2)\n",
      "Requirement already satisfied: joblib>=0.11 in c:\\users\\amansinghania\\newfolder\\lib\\site-packages (from pmdarima) (1.1.0)\n",
      "Requirement already satisfied: numpy>=1.21.2 in c:\\users\\amansinghania\\newfolder\\lib\\site-packages (from pmdarima) (1.21.5)\n",
      "Requirement already satisfied: pyparsing!=3.0.5,>=2.0.2 in c:\\users\\amansinghania\\newfolder\\lib\\site-packages (from packaging>=17.1->pmdarima) (3.0.4)\n",
      "Requirement already satisfied: pytz>=2020.1 in c:\\users\\amansinghania\\newfolder\\lib\\site-packages (from pandas>=0.19->pmdarima) (2021.3)\n",
      "Requirement already satisfied: python-dateutil>=2.8.1 in c:\\users\\amansinghania\\newfolder\\lib\\site-packages (from pandas>=0.19->pmdarima) (2.8.2)\n",
      "Requirement already satisfied: six>=1.5 in c:\\users\\amansinghania\\newfolder\\lib\\site-packages (from python-dateutil>=2.8.1->pandas>=0.19->pmdarima) (1.16.0)\n",
      "Requirement already satisfied: threadpoolctl>=2.0.0 in c:\\users\\amansinghania\\newfolder\\lib\\site-packages (from scikit-learn>=0.22->pmdarima) (2.2.0)\n",
      "Requirement already satisfied: patsy>=0.5.2 in c:\\users\\amansinghania\\newfolder\\lib\\site-packages (from statsmodels>=0.13.2->pmdarima) (0.5.2)\n",
      "Installing collected packages: pmdarima\n",
      "Successfully installed pmdarima-2.0.4\n"
     ]
    }
   ],
   "source": [
    "# Install ARIMA model\n",
    "\n",
    "!pip install pmdarima"
   ]
  },
  {
   "cell_type": "code",
   "execution_count": 64,
   "id": "f46e727e",
   "metadata": {},
   "outputs": [],
   "source": [
    "from pmdarima import auto_arima "
   ]
  },
  {
   "cell_type": "code",
   "execution_count": 65,
   "id": "8ffa2819",
   "metadata": {},
   "outputs": [],
   "source": [
    "import warnings\n",
    "from warnings import filterwarnings\n",
    "filterwarnings(\"ignore\")"
   ]
  },
  {
   "cell_type": "code",
   "execution_count": 66,
   "id": "074a2445",
   "metadata": {},
   "outputs": [
    {
     "name": "stdout",
     "output_type": "stream",
     "text": [
      "Performing stepwise search to minimize aic\n",
      " ARIMA(2,0,2)(0,0,0)[0] intercept   : AIC=20931.535, Time=12.80 sec\n",
      " ARIMA(0,0,0)(0,0,0)[0] intercept   : AIC=20925.225, Time=6.72 sec\n",
      " ARIMA(1,0,0)(0,0,0)[0] intercept   : AIC=20926.349, Time=7.52 sec\n",
      " ARIMA(0,0,1)(0,0,0)[0] intercept   : AIC=20926.321, Time=9.53 sec\n",
      " ARIMA(0,0,0)(0,0,0)[0]             : AIC=32616.913, Time=6.90 sec\n",
      " ARIMA(1,0,1)(0,0,0)[0] intercept   : AIC=20929.235, Time=9.96 sec\n",
      "\n",
      "Best model:  ARIMA(0,0,0)(0,0,0)[0] intercept\n",
      "Total fit time: 53.464 seconds\n"
     ]
    },
    {
     "data": {
      "text/plain": [
       "ARIMA(order=(0, 0, 0), scoring_args={}, suppress_warnings=True)"
      ]
     },
     "execution_count": 66,
     "metadata": {},
     "output_type": "execute_result"
    }
   ],
   "source": [
    "model=auto_arima(y=training_data['VWAP'],X=training_data[ind_features],trace=True)\n",
    "model"
   ]
  },
  {
   "cell_type": "code",
   "execution_count": 53,
   "id": "c9185733",
   "metadata": {},
   "outputs": [],
   "source": [
    "x=training_data['VWAP']\n",
    "y=training_data[ind_features]"
   ]
  },
  {
   "cell_type": "code",
   "execution_count": 88,
   "id": "67b186df",
   "metadata": {},
   "outputs": [
    {
     "data": {
      "text/plain": [
       "ARIMA(order=(0, 0, 0), scoring_args={}, suppress_warnings=True)"
      ]
     },
     "execution_count": 88,
     "metadata": {},
     "output_type": "execute_result"
    }
   ],
   "source": [
    "model.fit(x,y)"
   ]
  },
  {
   "cell_type": "code",
   "execution_count": 111,
   "id": "82fcbeb3",
   "metadata": {},
   "outputs": [
    {
     "data": {
      "text/plain": [
       "1800    2600.730884\n",
       "1801    2625.139119\n",
       "1802    2600.987731\n",
       "1803    2556.396862\n",
       "1804    2572.838054\n",
       "           ...     \n",
       "2280    3447.809278\n",
       "2281    3677.909829\n",
       "2282    3685.178415\n",
       "2283    3583.692053\n",
       "2284    3392.938617\n",
       "Length: 485, dtype: float64"
      ]
     },
     "execution_count": 111,
     "metadata": {},
     "output_type": "execute_result"
    }
   ],
   "source": [
    "forecast=model.predict(n_periods=len(test_data),X=test_data[ind_features])\n",
    "forecast"
   ]
  },
  {
   "cell_type": "code",
   "execution_count": 118,
   "id": "28ea5c50",
   "metadata": {},
   "outputs": [],
   "source": [
    "forecast.index = test_data.index"
   ]
  },
  {
   "cell_type": "code",
   "execution_count": 119,
   "id": "492942af",
   "metadata": {},
   "outputs": [],
   "source": [
    "test_data[\"Forecast_Arima\"]=forecast"
   ]
  },
  {
   "cell_type": "code",
   "execution_count": 120,
   "id": "5dcd0439",
   "metadata": {},
   "outputs": [
    {
     "data": {
      "text/plain": [
       "4585    2600.730884\n",
       "4586    2625.139119\n",
       "4587    2600.987731\n",
       "4588    2556.396862\n",
       "4589    2572.838054\n",
       "           ...     \n",
       "5065    3447.809278\n",
       "5066    3677.909829\n",
       "5067    3685.178415\n",
       "5068    3583.692053\n",
       "5069    3392.938617\n",
       "Name: Forecast_Arima, Length: 485, dtype: float64"
      ]
     },
     "execution_count": 120,
     "metadata": {},
     "output_type": "execute_result"
    }
   ],
   "source": [
    "test_data[\"Forecast_Arima\"]"
   ]
  },
  {
   "cell_type": "code",
   "execution_count": 122,
   "id": "b5d4a63e",
   "metadata": {},
   "outputs": [
    {
     "name": "stdout",
     "output_type": "stream",
     "text": [
      "Index(['Date', 'Symbol', 'Series', 'Prev Close', 'Open', 'High', 'Low', 'Last',\n",
      "       'Close', 'VWAP', 'Volume', 'Turnover', 'Trades', 'Deliverable Volume',\n",
      "       '%Deliverble', 'Highmean3', 'Highmean7', 'Lowmean3', 'Lowmean7',\n",
      "       'Volumemean3', 'Volumemean7', 'Turnovermean3', 'Turnovermean7',\n",
      "       'Tradesmean3', 'Tradesmean7', 'Highstd3', 'Highstd7', 'Lowstd3',\n",
      "       'Lowstd7', 'Volumestd3', 'Volumestd7', 'Turnoverstd3', 'Turnoverstd7',\n",
      "       'Tradesstd3', 'Tradesstd7', 'Forecast_ARIMA', 'Forecast_Arima'],\n",
      "      dtype='object')\n"
     ]
    }
   ],
   "source": [
    "print(test_data.columns)"
   ]
  },
  {
   "cell_type": "code",
   "execution_count": 123,
   "id": "45384de6",
   "metadata": {},
   "outputs": [
    {
     "data": {
      "text/html": [
       "<div>\n",
       "<style scoped>\n",
       "    .dataframe tbody tr th:only-of-type {\n",
       "        vertical-align: middle;\n",
       "    }\n",
       "\n",
       "    .dataframe tbody tr th {\n",
       "        vertical-align: top;\n",
       "    }\n",
       "\n",
       "    .dataframe thead th {\n",
       "        text-align: right;\n",
       "    }\n",
       "</style>\n",
       "<table border=\"1\" class=\"dataframe\">\n",
       "  <thead>\n",
       "    <tr style=\"text-align: right;\">\n",
       "      <th></th>\n",
       "      <th>Date</th>\n",
       "      <th>Symbol</th>\n",
       "      <th>Series</th>\n",
       "      <th>Prev Close</th>\n",
       "      <th>Open</th>\n",
       "      <th>High</th>\n",
       "      <th>Low</th>\n",
       "      <th>Last</th>\n",
       "      <th>Close</th>\n",
       "      <th>VWAP</th>\n",
       "      <th>...</th>\n",
       "      <th>Lowstd3</th>\n",
       "      <th>Lowstd7</th>\n",
       "      <th>Volumestd3</th>\n",
       "      <th>Volumestd7</th>\n",
       "      <th>Turnoverstd3</th>\n",
       "      <th>Turnoverstd7</th>\n",
       "      <th>Tradesstd3</th>\n",
       "      <th>Tradesstd7</th>\n",
       "      <th>Forecast_ARIMA</th>\n",
       "      <th>Forecast_Arima</th>\n",
       "    </tr>\n",
       "  </thead>\n",
       "  <tbody>\n",
       "    <tr>\n",
       "      <th>4585</th>\n",
       "      <td>2018-09-11</td>\n",
       "      <td>BAJFINANCE</td>\n",
       "      <td>EQ</td>\n",
       "      <td>2615.65</td>\n",
       "      <td>2621.00</td>\n",
       "      <td>2668.80</td>\n",
       "      <td>2562.25</td>\n",
       "      <td>2600.0</td>\n",
       "      <td>2600.75</td>\n",
       "      <td>2619.05</td>\n",
       "      <td>...</td>\n",
       "      <td>56.544592</td>\n",
       "      <td>53.60858</td>\n",
       "      <td>1.130645e+06</td>\n",
       "      <td>816410.887112</td>\n",
       "      <td>2.905375e+14</td>\n",
       "      <td>2.170264e+14</td>\n",
       "      <td>40756.099335</td>\n",
       "      <td>32012.681782</td>\n",
       "      <td>NaN</td>\n",
       "      <td>2600.730884</td>\n",
       "    </tr>\n",
       "    <tr>\n",
       "      <th>4586</th>\n",
       "      <td>2018-09-12</td>\n",
       "      <td>BAJFINANCE</td>\n",
       "      <td>EQ</td>\n",
       "      <td>2600.75</td>\n",
       "      <td>2617.95</td>\n",
       "      <td>2636.95</td>\n",
       "      <td>2516.10</td>\n",
       "      <td>2588.9</td>\n",
       "      <td>2594.00</td>\n",
       "      <td>2577.54</td>\n",
       "      <td>...</td>\n",
       "      <td>40.110047</td>\n",
       "      <td>66.23689</td>\n",
       "      <td>9.025933e+05</td>\n",
       "      <td>835125.949241</td>\n",
       "      <td>2.325644e+14</td>\n",
       "      <td>2.156391e+14</td>\n",
       "      <td>31297.267202</td>\n",
       "      <td>34656.587966</td>\n",
       "      <td>NaN</td>\n",
       "      <td>2625.139119</td>\n",
       "    </tr>\n",
       "  </tbody>\n",
       "</table>\n",
       "<p>2 rows × 37 columns</p>\n",
       "</div>"
      ],
      "text/plain": [
       "           Date      Symbol Series  Prev Close     Open     High      Low  \\\n",
       "4585 2018-09-11  BAJFINANCE     EQ     2615.65  2621.00  2668.80  2562.25   \n",
       "4586 2018-09-12  BAJFINANCE     EQ     2600.75  2617.95  2636.95  2516.10   \n",
       "\n",
       "        Last    Close     VWAP  ...    Lowstd3   Lowstd7    Volumestd3  \\\n",
       "4585  2600.0  2600.75  2619.05  ...  56.544592  53.60858  1.130645e+06   \n",
       "4586  2588.9  2594.00  2577.54  ...  40.110047  66.23689  9.025933e+05   \n",
       "\n",
       "         Volumestd7  Turnoverstd3  Turnoverstd7    Tradesstd3    Tradesstd7  \\\n",
       "4585  816410.887112  2.905375e+14  2.170264e+14  40756.099335  32012.681782   \n",
       "4586  835125.949241  2.325644e+14  2.156391e+14  31297.267202  34656.587966   \n",
       "\n",
       "      Forecast_ARIMA  Forecast_Arima  \n",
       "4585             NaN     2600.730884  \n",
       "4586             NaN     2625.139119  \n",
       "\n",
       "[2 rows x 37 columns]"
      ]
     },
     "execution_count": 123,
     "metadata": {},
     "output_type": "execute_result"
    }
   ],
   "source": [
    "test_data.head(2)"
   ]
  },
  {
   "cell_type": "code",
   "execution_count": 127,
   "id": "cbd0ef8e",
   "metadata": {},
   "outputs": [
    {
     "data": {
      "text/plain": [
       "<AxesSubplot:>"
      ]
     },
     "execution_count": 127,
     "metadata": {},
     "output_type": "execute_result"
    },
    {
     "data": {
      "image/png": "[encoded data removed]",
      "text/plain": [
       "<Figure size 1008x504 with 1 Axes>"
      ]
     },
     "metadata": {
      "needs_background": "light"
     },
     "output_type": "display_data"
    }
   ],
   "source": [
    "test_data[['VWAP','Forecast_Arima']].plot(figsize=(14,7))"
   ]
  },
  {
   "cell_type": "code",
   "execution_count": 128,
   "id": "a3f3ea59",
   "metadata": {},
   "outputs": [],
   "source": [
    "# Accuracy of model\n",
    "\n",
    "from sklearn import metrics"
   ]
  },
  {
   "cell_type": "code",
   "execution_count": 130,
   "id": "9073d158",
   "metadata": {},
   "outputs": [
    {
     "data": {
      "text/plain": [
       "93.48511139069383"
      ]
     },
     "execution_count": 130,
     "metadata": {},
     "output_type": "execute_result"
    }
   ],
   "source": [
    "metrics.r2_score(test_data['VWAP'],test_data['Forecast_Arima'])*100"
   ]
  },
  {
   "cell_type": "code",
   "execution_count": null,
   "id": "099ff2fa",
   "metadata": {},
   "outputs": [],
   "source": []
  }
 ],
 "metadata": {
  "kernelspec": {
   "display_name": "Python 3 (ipykernel)",
   "language": "python",
   "name": "python3"
  },
  "language_info": {
   "codemirror_mode": {
    "name": "ipython",
    "version": 3
   },
   "file_extension": ".py",
   "mimetype": "text/x-python",
   "name": "python",
   "nbconvert_exporter": "python",
   "pygments_lexer": "ipython3",
   "version": "3.9.12"
  }
 },
 "nbformat": 4,
 "nbformat_minor": 5
}
